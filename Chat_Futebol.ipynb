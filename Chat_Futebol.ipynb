{
  "nbformat": 4,
  "nbformat_minor": 0,
  "metadata": {
    "colab": {
      "provenance": [],
      "authorship_tag": "ABX9TyN/OjFVDzMk5jptRNst9Xxa",
      "include_colab_link": true
    },
    "kernelspec": {
      "name": "python3",
      "display_name": "Python 3"
    },
    "language_info": {
      "name": "python"
    }
  },
  "cells": [
    {
      "cell_type": "markdown",
      "metadata": {
        "id": "view-in-github",
        "colab_type": "text"
      },
      "source": [
        "<a href=\"https://colab.research.google.com/github/Lopeswaprojetos/Chat-futebol/blob/main/Chat_Futebol.ipynb\" target=\"_parent\"><img src=\"https://colab.research.google.com/assets/colab-badge.svg\" alt=\"Open In Colab\"/></a>"
      ]
    },
    {
      "cell_type": "code",
      "execution_count": 1,
      "metadata": {
        "id": "RC_cV-UtD4YV"
      },
      "outputs": [],
      "source": [
        "!pip install -U -q google-generativeai\n"
      ]
    },
    {
      "cell_type": "code",
      "source": [
        "import numpy as np\n",
        "import pandas as pd\n",
        "import google.generativeai as genai\n",
        "import nltk\n",
        "nltk.download('punkt')\n"
      ],
      "metadata": {
        "colab": {
          "base_uri": "https://localhost:8080/"
        },
        "id": "XnkD8jF9EB25",
        "outputId": "d3619890-80f7-4427-8fa3-0b639bb12dba"
      },
      "execution_count": 22,
      "outputs": [
        {
          "output_type": "stream",
          "name": "stderr",
          "text": [
            "[nltk_data] Downloading package punkt to /root/nltk_data...\n",
            "[nltk_data]   Unzipping tokenizers/punkt.zip.\n"
          ]
        },
        {
          "output_type": "execute_result",
          "data": {
            "text/plain": [
              "True"
            ]
          },
          "metadata": {},
          "execution_count": 22
        }
      ]
    },
    {
      "cell_type": "code",
      "source": [
        "# Insira sua chave de API do Google aqui\n",
        "GOOGLE_API_KEY = \"Coloque sua chave secreta aqui\"\n",
        "\n",
        "# Configure a API\n",
        "genai.configure(api_key=GOOGLE_API_KEY)\n"
      ],
      "metadata": {
        "id": "nofv1AtPED9_"
      },
      "execution_count": 3,
      "outputs": []
    },
    {
      "cell_type": "code",
      "source": [
        "documentos = [\n",
        "    {\"title\": \"Copa Libertadores da América 2024\", \"content\": \"Conteúdo sobre a Copa Libertadores da América 2024.\"},\n",
        "    {\"title\": \"Champions League 2024\", \"content\": \"Conteúdo sobre a Champions League 2024.\"},\n",
        "    {\"title\": \"Final da Copa do Mundo de 2022\", \"content\": \"Conteúdo sobre a final da Copa do Mundo de 2022.\"},\n",
        "    {\"title\": \"Brasileirão\", \"content\": \"Conteúdo sobre o Campeonato Brasileiro (Série A).\"},\n",
        "    {\"title\": \"Série B\", \"content\": \"Conteúdo sobre o Campeonato Brasileiro (Série B).\"},\n",
        "    {\"title\": \"Copa Sul-Americana\", \"content\": \"Conteúdo sobre a Copa Sul-Americana.\"},\n",
        "    {\"title\": \"Copa do Brasil\", \"content\": \"Conteúdo sobre a Copa do Brasil.\"},\n",
        "    {\"title\": \"Copa do Nordeste\", \"content\": \"Conteúdo sobre a Copa do Nordeste.\"},\n",
        "    {\"title\": \"La Liga\", \"content\": \"Conteúdo sobre a La Liga.\"},\n",
        "    {\"title\": \"Premier League\", \"content\": \"Conteúdo sobre a Premier League.\"},\n",
        "    {\"title\": \"Bundesliga\", \"content\": \"Conteúdo sobre a Bundesliga.\"},\n",
        "    {\"title\": \"Serie A\", \"content\": \"Conteúdo sobre a Serie A.\"},\n",
        "    # Adicione mais documentos conforme necessário\n",
        "]\n"
      ],
      "metadata": {
        "id": "u4TSRTu7EI8O"
      },
      "execution_count": 14,
      "outputs": []
    },
    {
      "cell_type": "code",
      "source": [
        "for documento in documentos:\n",
        "    documento[\"embedding\"] = genai.embed_content(model=\"models/embedding-001\",\n",
        "                                                 content=documento[\"content\"],\n",
        "                                                 title=documento[\"title\"],\n",
        "                                                 task_type=\"RETRIEVAL_DOCUMENT\")[\"embedding\"]\n"
      ],
      "metadata": {
        "id": "xtHHMkhdEK43"
      },
      "execution_count": 5,
      "outputs": []
    },
    {
      "cell_type": "code",
      "source": [
        "# @title Texto de título padrão\n",
        "generation_config = {\n",
        "  \"candidate_count\": 1,\n",
        "  \"temperature\": 0.5,\n",
        "}\n",
        "\n",
        "safety_settings = {\n",
        "    'HATE': 'BLOCK_NONE',\n",
        "    'HARASSMENT': 'BLOCK_NONE',\n",
        "    'SEXUAL': 'BLOCK_NONE',\n",
        "  }\n",
        "\n",
        "model = genai.GenerativeModel(model_name='gemini-1.0-pro',\n",
        "                               generation_config=generation_config,\n",
        "                               safety_settings=safety_settings)\n",
        "\n",
        "chat = model.start_chat(history=[])\n",
        "\n",
        "while True:\n",
        "    pergunta = input(\"Faça uma pergunta (ou 'sair' para encerrar): \")\n",
        "\n",
        "    if pergunta.lower() == \"sair\":\n",
        "        print(\"Até mais!\")\n",
        "        break\n",
        "\n",
        "    response = chat.send_message(pergunta)\n",
        "    print(\"Resposta:\", response.text, '\\n\\n')\n"
      ],
      "metadata": {
        "id": "WbUdFJWWGsjo"
      },
      "execution_count": null,
      "outputs": []
    }
  ]
}