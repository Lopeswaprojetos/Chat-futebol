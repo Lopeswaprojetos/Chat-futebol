{
  "nbformat": 4,
  "nbformat_minor": 0,
  "metadata": {
    "colab": {
      "provenance": [],
      "authorship_tag": "ABX9TyN/OjFVDzMk5jptRNst9Xxa",
      "include_colab_link": true
    },
    "kernelspec": {
      "name": "python3",
      "display_name": "Python 3"
    },
    "language_info": {
      "name": "python"
    }
  },
  "cells": [
    {
      "cell_type": "markdown",
      "metadata": {
        "id": "view-in-github",
        "colab_type": "text"
      },
      "source": [
        "<a href=\"https://colab.research.google.com/github/Lopeswaprojetos/Chat-futebol/blob/main/Chat_Futebol.ipynb\" target=\"_parent\"><img src=\"https://colab.research.google.com/assets/colab-badge.svg\" alt=\"Open In Colab\"/></a>"
      ]
    },
    {
      "cell_type": "code",
      "execution_count": 1,
      "metadata": {
        "id": "RC_cV-UtD4YV"
      },
      "outputs": [],
      "source": [
        "!pip install -U -q google-generativeai\n"
      ]
    },
    {
      "cell_type": "code",
      "source": [
        "import numpy as np\n",
        "import pandas as pd\n",
        "import google.generativeai as genai\n",
        "import nltk\n",
        "nltk.download('punkt')\n"
      ],
      "metadata": {
        "colab": {
          "base_uri": "https://localhost:8080/"
        },
        "id": "XnkD8jF9EB25",
        "outputId": "d3619890-80f7-4427-8fa3-0b639bb12dba"
      },
      "execution_count": 22,
      "outputs": [
        {
          "output_type": "stream",
          "name": "stderr",
          "text": [
            "[nltk_data] Downloading package punkt to /root/nltk_data...\n",
            "[nltk_data]   Unzipping tokenizers/punkt.zip.\n"
          ]
        },
        {
          "output_type": "execute_result",
          "data": {
            "text/plain": [
              "True"
            ]
          },
          "metadata": {},
          "execution_count": 22
        }
      ]
    },
    {
      "cell_type": "code",
      "source": [
        "# Insira sua chave de API do Google aqui\n",
        "GOOGLE_API_KEY = \"Coloque sua chave secreta aqui\"\n",
        "\n",
        "# Configure a API\n",
        "genai.configure(api_key=GOOGLE_API_KEY)\n"
      ],
      "metadata": {
        "id": "nofv1AtPED9_"
      },
      "execution_count": 3,
      "outputs": []
    },
    {
      "cell_type": "code",
      "source": [
        "documentos = [\n",
        "    {\"title\": \"Copa Libertadores da América 2024\", \"content\": \"Conteúdo sobre a Copa Libertadores da América 2024.\"},\n",
        "    {\"title\": \"Champions League 2024\", \"content\": \"Conteúdo sobre a Champions League 2024.\"},\n",
        "    {\"title\": \"Final da Copa do Mundo de 2022\", \"content\": \"Conteúdo sobre a final da Copa do Mundo de 2022.\"},\n",
        "    {\"title\": \"Brasileirão\", \"content\": \"Conteúdo sobre o Campeonato Brasileiro (Série A).\"},\n",
        "    {\"title\": \"Série B\", \"content\": \"Conteúdo sobre o Campeonato Brasileiro (Série B).\"},\n",
        "    {\"title\": \"Copa Sul-Americana\", \"content\": \"Conteúdo sobre a Copa Sul-Americana.\"},\n",
        "    {\"title\": \"Copa do Brasil\", \"content\": \"Conteúdo sobre a Copa do Brasil.\"},\n",
        "    {\"title\": \"Copa do Nordeste\", \"content\": \"Conteúdo sobre a Copa do Nordeste.\"},\n",
        "    {\"title\": \"La Liga\", \"content\": \"Conteúdo sobre a La Liga.\"},\n",
        "    {\"title\": \"Premier League\", \"content\": \"Conteúdo sobre a Premier League.\"},\n",
        "    {\"title\": \"Bundesliga\", \"content\": \"Conteúdo sobre a Bundesliga.\"},\n",
        "    {\"title\": \"Serie A\", \"content\": \"Conteúdo sobre a Serie A.\"},\n",
        "    # Adicione mais documentos conforme necessário\n",
        "]\n"
      ],
      "metadata": {
        "id": "u4TSRTu7EI8O"
      },
      "execution_count": 14,
      "outputs": []
    },
    {
      "cell_type": "code",
      "source": [
        "for documento in documentos:\n",
        "    documento[\"embedding\"] = genai.embed_content(model=\"models/embedding-001\",\n",
        "                                                 content=documento[\"content\"],\n",
        "                                                 title=documento[\"title\"],\n",
        "                                                 task_type=\"RETRIEVAL_DOCUMENT\")[\"embedding\"]\n"
      ],
      "metadata": {
        "id": "xtHHMkhdEK43"
      },
      "execution_count": 5,
      "outputs": []
    },
    {
      "cell_type": "code",
      "source": [
        "# @title Texto de título padrão\n",
        "generation_config = {\n",
        "  \"candidate_count\": 1,\n",
        "  \"temperature\": 0.5,\n",
        "}\n",
        "\n",
        "safety_settings = {\n",
        "    'HATE': 'BLOCK_NONE',\n",
        "    'HARASSMENT': 'BLOCK_NONE',\n",
        "    'SEXUAL': 'BLOCK_NONE',\n",
        "  }\n",
        "\n",
        "model = genai.GenerativeModel(model_name='gemini-1.0-pro',\n",
        "                               generation_config=generation_config,\n",
        "                               safety_settings=safety_settings)\n",
        "\n",
        "chat = model.start_chat(history=[])\n",
        "\n",
        "while True:\n",
        "    pergunta = input(\"Faça uma pergunta (ou 'sair' para encerrar): \")\n",
        "\n",
        "    if pergunta.lower() == \"sair\":\n",
        "        print(\"Até mais!\")\n",
        "        break\n",
        "\n",
        "    response = chat.send_message(pergunta)\n",
        "    print(\"Resposta:\", response.text, '\\n\\n')\n"
      ],
      "metadata": {
        "colab": {
          "base_uri": "https://localhost:8080/",
          "height": 1000
        },
        "id": "WbUdFJWWGsjo",
        "outputId": "ec0af390-c51a-4cd6-e319-001f0d04ea5f"
      },
      "execution_count": 28,
      "outputs": [
        {
          "output_type": "stream",
          "name": "stdout",
          "text": [
            "Faça uma pergunta (ou 'sair' para encerrar): quem foi campeao da La liga 2023?\n",
            "Resposta: A temporada da La Liga de 2023 ainda não foi concluída. Portanto, o campeão ainda não foi determinado. \n",
            "\n",
            "\n",
            "Faça uma pergunta (ou 'sair' para encerrar): quem foi campeao da La liga 2022-2023?\n",
            "Resposta: Real Madrid \n",
            "\n",
            "\n",
            "Faça uma pergunta (ou 'sair' para encerrar): quem foi campeao da La liga 2023-2024?\n",
            "Resposta: A temporada da La Liga 2023-2024 ainda não começou, então o campeão ainda não foi determinado. \n",
            "\n",
            "\n",
            "Faça uma pergunta (ou 'sair' para encerrar): qm foi o artilheiro da la liga em 2023\n",
            "Resposta: A temporada da La Liga de 2023 ainda não foi concluída, então o artilheiro ainda não foi determinado. \n",
            "\n",
            "\n",
            "Faça uma pergunta (ou 'sair' para encerrar): qm foi campeao da Serie A nos ultimos anos?\n",
            "Resposta: **Campeões da Serie A nos últimos anos:**\n",
            "\n",
            "* **2022/23:** AC Milan\n",
            "* **2021/22:** AC Milan\n",
            "* **2020/21:** Inter de Milão\n",
            "* **2019/20:** Juventus\n",
            "* **2018/19:** Juventus\n",
            "* **2017/18:** Juventus\n",
            "* **2016/17:** Juventus\n",
            "* **2015/16:** Juventus\n",
            "* **2014/15:** Juventus\n",
            "* **2013/14:** Juventus \n",
            "\n",
            "\n",
            "Faça uma pergunta (ou 'sair' para encerrar): e da la liga ?\n",
            "Resposta: **Campeões da La Liga nos últimos anos:**\n",
            "\n",
            "* **2022/23:** Real Madrid\n",
            "* **2021/22:** Real Madrid\n",
            "* **2020/21:** Atlético de Madrid\n",
            "* **2019/20:** Real Madrid\n",
            "* **2018/19:** Barcelona\n",
            "* **2017/18:** Barcelona\n",
            "* **2016/17:** Real Madrid\n",
            "* **2015/16:** Barcelona\n",
            "* **2014/15:** Barcelona\n",
            "* **2013/14:** Atlético de Madrid \n",
            "\n",
            "\n",
            "Faça uma pergunta (ou 'sair' para encerrar): quando barcelona foi campeao pela ultima vez da la liga\n",
            "Resposta: 2019 \n",
            "\n",
            "\n",
            "Faça uma pergunta (ou 'sair' para encerrar): em 2022- 2023 qm foi campeao da La LIga foi Barcelona \n",
            "Resposta: Essa informação está incorreta. O campeão da La Liga na temporada 2022-2023 foi o Real Madrid. \n",
            "\n",
            "\n",
            "Faça uma pergunta (ou 'sair' para encerrar): Onde está tirando essa informaçao?\n",
            "Resposta: Estou obtendo essas informações de várias fontes confiáveis, incluindo:\n",
            "\n",
            "* Site oficial da La Liga: https://www.laliga.com/en-GB/\n",
            "* Wikipedia: https://en.wikipedia.org/wiki/2022%E2%80%9323_La_Liga\n",
            "* BBC Sport: https://www.bbc.com/sport/football/61244826\n",
            "* ESPN: https://www.espn.com/soccer/spanish-primera-division/story/4721525/real-madrid-win-2022-23-la-liga-title-after-beating-villarreal\n",
            "\n",
            "Essas fontes confirmam consistentemente que o Real Madrid foi o campeão da La Liga na temporada 2022-2023. \n",
            "\n",
            "\n",
            "Faça uma pergunta (ou 'sair' para encerrar): essa noticia foi no final da temporada 2022 e nao final da temporada 2023 onde barcelona consagrou campeao\n",
            "Resposta: Você está correto. A notícia de que o Real Madrid venceu a La Liga na temporada 2022-2023 foi no final daquela temporada, em maio de 2023.\n",
            "\n",
            "A temporada 2023-2024 da La Liga ainda está em andamento e o campeão ainda não foi determinado. Portanto, não há informações confiáveis disponíveis sobre quem será o campeão nesta temporada.\n",
            "\n",
            "Você tem alguma outra dúvida sobre a La Liga ou futebol em geral? \n",
            "\n",
            "\n",
            "Faça uma pergunta (ou 'sair' para encerrar): quem foi campeao brasileiro em 2023?\n",
            "Resposta: A temporada do Campeonato Brasileiro de 2023 ainda não foi concluída, então o campeão ainda não foi determinado. \n",
            "\n",
            "\n",
            "Faça uma pergunta (ou 'sair' para encerrar): campeao de 2022\n",
            "Resposta: Palmeiras \n",
            "\n",
            "\n",
            "Faça uma pergunta (ou 'sair' para encerrar): campeao 2021\n",
            "Resposta: Atlético Mineiro \n",
            "\n",
            "\n"
          ]
        },
        {
          "output_type": "error",
          "ename": "KeyboardInterrupt",
          "evalue": "Interrupted by user",
          "traceback": [
            "\u001b[0;31m---------------------------------------------------------------------------\u001b[0m",
            "\u001b[0;31mKeyboardInterrupt\u001b[0m                         Traceback (most recent call last)",
            "\u001b[0;32m<ipython-input-28-897fb3becc90>\u001b[0m in \u001b[0;36m<cell line: 19>\u001b[0;34m()\u001b[0m\n\u001b[1;32m     18\u001b[0m \u001b[0;34m\u001b[0m\u001b[0m\n\u001b[1;32m     19\u001b[0m \u001b[0;32mwhile\u001b[0m \u001b[0;32mTrue\u001b[0m\u001b[0;34m:\u001b[0m\u001b[0;34m\u001b[0m\u001b[0;34m\u001b[0m\u001b[0m\n\u001b[0;32m---> 20\u001b[0;31m     \u001b[0mpergunta\u001b[0m \u001b[0;34m=\u001b[0m \u001b[0minput\u001b[0m\u001b[0;34m(\u001b[0m\u001b[0;34m\"Faça uma pergunta (ou 'sair' para encerrar): \"\u001b[0m\u001b[0;34m)\u001b[0m\u001b[0;34m\u001b[0m\u001b[0;34m\u001b[0m\u001b[0m\n\u001b[0m\u001b[1;32m     21\u001b[0m \u001b[0;34m\u001b[0m\u001b[0m\n\u001b[1;32m     22\u001b[0m     \u001b[0;32mif\u001b[0m \u001b[0mpergunta\u001b[0m\u001b[0;34m.\u001b[0m\u001b[0mlower\u001b[0m\u001b[0;34m(\u001b[0m\u001b[0;34m)\u001b[0m \u001b[0;34m==\u001b[0m \u001b[0;34m\"sair\"\u001b[0m\u001b[0;34m:\u001b[0m\u001b[0;34m\u001b[0m\u001b[0;34m\u001b[0m\u001b[0m\n",
            "\u001b[0;32m/usr/local/lib/python3.10/dist-packages/ipykernel/kernelbase.py\u001b[0m in \u001b[0;36mraw_input\u001b[0;34m(self, prompt)\u001b[0m\n\u001b[1;32m    849\u001b[0m                 \u001b[0;34m\"raw_input was called, but this frontend does not support input requests.\"\u001b[0m\u001b[0;34m\u001b[0m\u001b[0;34m\u001b[0m\u001b[0m\n\u001b[1;32m    850\u001b[0m             )\n\u001b[0;32m--> 851\u001b[0;31m         return self._input_request(str(prompt),\n\u001b[0m\u001b[1;32m    852\u001b[0m             \u001b[0mself\u001b[0m\u001b[0;34m.\u001b[0m\u001b[0m_parent_ident\u001b[0m\u001b[0;34m,\u001b[0m\u001b[0;34m\u001b[0m\u001b[0;34m\u001b[0m\u001b[0m\n\u001b[1;32m    853\u001b[0m             \u001b[0mself\u001b[0m\u001b[0;34m.\u001b[0m\u001b[0m_parent_header\u001b[0m\u001b[0;34m,\u001b[0m\u001b[0;34m\u001b[0m\u001b[0;34m\u001b[0m\u001b[0m\n",
            "\u001b[0;32m/usr/local/lib/python3.10/dist-packages/ipykernel/kernelbase.py\u001b[0m in \u001b[0;36m_input_request\u001b[0;34m(self, prompt, ident, parent, password)\u001b[0m\n\u001b[1;32m    893\u001b[0m             \u001b[0;32mexcept\u001b[0m \u001b[0mKeyboardInterrupt\u001b[0m\u001b[0;34m:\u001b[0m\u001b[0;34m\u001b[0m\u001b[0;34m\u001b[0m\u001b[0m\n\u001b[1;32m    894\u001b[0m                 \u001b[0;31m# re-raise KeyboardInterrupt, to truncate traceback\u001b[0m\u001b[0;34m\u001b[0m\u001b[0;34m\u001b[0m\u001b[0m\n\u001b[0;32m--> 895\u001b[0;31m                 \u001b[0;32mraise\u001b[0m \u001b[0mKeyboardInterrupt\u001b[0m\u001b[0;34m(\u001b[0m\u001b[0;34m\"Interrupted by user\"\u001b[0m\u001b[0;34m)\u001b[0m \u001b[0;32mfrom\u001b[0m \u001b[0;32mNone\u001b[0m\u001b[0;34m\u001b[0m\u001b[0;34m\u001b[0m\u001b[0m\n\u001b[0m\u001b[1;32m    896\u001b[0m             \u001b[0;32mexcept\u001b[0m \u001b[0mException\u001b[0m \u001b[0;32mas\u001b[0m \u001b[0me\u001b[0m\u001b[0;34m:\u001b[0m\u001b[0;34m\u001b[0m\u001b[0;34m\u001b[0m\u001b[0m\n\u001b[1;32m    897\u001b[0m                 \u001b[0mself\u001b[0m\u001b[0;34m.\u001b[0m\u001b[0mlog\u001b[0m\u001b[0;34m.\u001b[0m\u001b[0mwarning\u001b[0m\u001b[0;34m(\u001b[0m\u001b[0;34m\"Invalid Message:\"\u001b[0m\u001b[0;34m,\u001b[0m \u001b[0mexc_info\u001b[0m\u001b[0;34m=\u001b[0m\u001b[0;32mTrue\u001b[0m\u001b[0;34m)\u001b[0m\u001b[0;34m\u001b[0m\u001b[0;34m\u001b[0m\u001b[0m\n",
            "\u001b[0;31mKeyboardInterrupt\u001b[0m: Interrupted by user"
          ]
        }
      ]
    }
  ]
}